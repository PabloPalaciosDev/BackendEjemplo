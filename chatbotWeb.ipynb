{
  "nbformat": 4,
  "nbformat_minor": 0,
  "metadata": {
    "colab": {
      "provenance": [],
      "authorship_tag": "ABX9TyNLM1nZJHQ5zpqD3qy6samH",
      "include_colab_link": true
    },
    "kernelspec": {
      "name": "python3",
      "display_name": "Python 3"
    },
    "language_info": {
      "name": "python"
    }
  },
  "cells": [
    {
      "cell_type": "markdown",
      "metadata": {
        "id": "view-in-github",
        "colab_type": "text"
      },
      "source": [
        "<a href=\"https://colab.research.google.com/github/PabloPalaciosDev/BackendEjemplo/blob/main/chatbotWeb.ipynb\" target=\"_parent\"><img src=\"https://colab.research.google.com/assets/colab-badge.svg\" alt=\"Open In Colab\"/></a>"
      ]
    },
    {
      "cell_type": "markdown",
      "source": [
        "**Importamos librerias**"
      ],
      "metadata": {
        "id": "gVCVCHP-H3Er"
      }
    },
    {
      "cell_type": "code",
      "execution_count": null,
      "metadata": {
        "id": "8i7E-y80uOjd"
      },
      "outputs": [],
      "source": [
        "import json\n",
        "import nltk\n",
        "import tensorflow as tf\n",
        "import numpy as np\n",
        "import re"
      ]
    },
    {
      "cell_type": "markdown",
      "source": [
        "Cargamos el archivo json con estos metodos para volverlo un diccionario de python manipulable"
      ],
      "metadata": {
        "id": "guUODpecH9Pw"
      }
    },
    {
      "cell_type": "code",
      "source": [
        "with open(\"data.json\") as json_file:\n",
        "    data = json.load(json_file)\n",
        "print(data)"
      ],
      "metadata": {
        "colab": {
          "base_uri": "https://localhost:8080/"
        },
        "id": "T98B7n_puo3Y",
        "outputId": "37ea64b4-654b-45ff-ace0-e9a4912c268d"
      },
      "execution_count": null,
      "outputs": [
        {
          "output_type": "stream",
          "name": "stdout",
          "text": [
            "{'data': [{'question': '¿Por qué debería contratar sus servicios?', 'answer': 'Contamos con más de 10 años de experiencia entregando soluciones tecnológicas únicas en todas las industrias y áreas de desarrollo. Nos enfocamos especialmente en generar resultados asombrosos en 10 áreas principales de desarrollo pero podemos brindar experiencias personalizadas  sin importar sus requisitos tecnológicos.', 'context': ['Info de Paquetes', 'Experiencia', 'Contrato'], 'synonyms': ['Contar', 'Paquetes'], 'related_question': ['¿Cuáles son sus áreas de conocimiento?', '¿Qué les hace diferente a los demás?']}, {'question': '¿Cuáles son sus áreas de conocimiento?', 'answer': 'Entre las áreas tecnológicas que podemos trabajar, podemos enumerar: Data Science y aprendizaje automático, pruebas unitarias, desarrollo de plataformas, microservicios, diseño de producto, desarrollo frontend, estrategia de producto e internet de las cosas. ', 'context': ['Contrato', 'Experiencia'], 'synonyms': ['Enfoque', 'Rubro', 'Mercado'], 'related_question': ['¿Qué tecnologías manejan al momento de trabajar una página web?', '¿Mi página web puede tener un sistema de reservas?']}, {'question': '¿Existen algunas empresas que han contado con sus servicios?', 'answer': 'Si, tenemos experiencia en distintos sistemas para empresas reconocidas como Heineken, Implosa, DuraQuant, entre otras. En nuestra página web puede encontrar mayores detalles sobre los sistemas implementados en esos casos de éxitos.', 'context': ['Contrato', 'Experiencia'], 'synonyms': ['Productos', 'Paquetes', 'Contratado'], 'related_question': ['¿Trabajan para un tipo de industria en específico?']}, {'question': '¿Trabajan para un tipo de industria en específico?', 'answer': 'No necesariamente. Tenemos distintas industrias con diferentes mercados, entre las cuales podemos mencionar las industrias de salud, automotriz, banca y finanzas, inmobiliaria, telecomunicaciones y otros.', 'context': ['Contrato', 'Empresas'], 'synonyms': ['Empresa', 'Diseñado'], 'related_question': ['¿Existen algunas empresas que han contado con sus servicios?', '¿Cuáles son sus áreas de conocimiento?']}, {'question': '¿Qué les hace diferente a los demás?', 'answer': 'Siempre entregamos resultados de alta calidad alineados con los estándares más altos de la industria, además, tenemos una gestión de proyectos basada en metodologías ágiles gracias a un equipo de desarrolladores y diseñadores experimentados en las distintas áreas de trabajo.', 'context': ['Productos', 'Competencia'], 'synonyms': ['mejor', 'competencia'], 'related_question': ['¿Cuáles son sus áreas de conocimiento?', '¿Por qué debería contratar sus servicios?']}, {'question': '¿Dónde están ubicados?', 'answer': 'Tenemos oficinas en tres países, en Panamá, Colombia y USA. Nuestro número telefónico es + 507 2099002 para Panamá. ', 'context': ['Informacion', 'Contrato'], 'synonyms': ['Localizados', 'Encuentran']}, {'question': '¿Ofrecen servicios de alojamiento web?', 'answer': 'Si, tenemos años de experiencia en el mercado, ofreciendo servicios de web hosting de alta calidad a nuestros clientes alrededor del mundo.', 'context': ['Informacion', 'Paquetes'], 'synonyms': ['sitio web', 'facilidades'], 'related_question': ['Necesito desarrollar un sitio web', '¿Qué tecnologías manejan al momento de trabajar una página web?', '¿Qué paquetes tienen para webs?']}, {'question': 'Necesito desarrollar un sitio web', 'answer': 'Nosotros podemos ayudarte con el desarrollo de un sitio web acorde a tus necesidades empresariales o personales. Esto lo realizamos mediante el estudio de cada caso y sus necesidades y posibles opciones.', 'context': ['Paquetes', 'Informacion'], 'synonyms': ['hacer', 'solicito', 'quiero'], 'related_question': ['¿Tienen servicios de mercadeo por correo electrónico?', '¿Qué paquetes tienen para webs?']}, {'question': 'Busco un software que ayude a mi empresa a realizar una tarea en específico.', 'answer': 'Actualmente existen softwares de distintas tipologías, estamos preparados para brindarte aquel tipo de software que más se adapte a tu empresa. Podemos diseñar una solución de software para sus sistemas y clientes. Nuestro equipo diseña, desarrolla e implementa software personalizado y plug-ins, que ayudan a nuestros clientes a lanzar nuevos emprendimientos en línea.', 'context': ['Informacion', 'Paquetes', 'Funciones'], 'synonyms': ['Negocio', 'Funcion'], 'related_question': ['¿Qué paquetes tienen para webs?', 'Necesito desarrollar un sitio web']}, {'question': '¿Tienen servicios de mercadeo por correo electrónico?', 'answer': 'Te brindamos rapidez y entrega a un precio accesible. Lograrás alcanzar tus objetivos de marketing con una automatización de correo electrónico escalable y personalizada.', 'context': ['Informacion', 'Funciones'], 'synonyms': ['Funciones', 'email', 'contacto'], 'related_question': ['Necesito desarrollar un sitio web', '¿Mi página web puede tener un sistema de reservas?']}, {'question': '¿Qué tecnologías manejan al momento de trabajar una página web?', 'answer': 'Manejamos tecnologías que vayan acorde a las necesidades de nuestro cliente. Comunmente trabajamos con javascript, css y html. Para la comunicación con el sitio webs y los datos utilizamos PHP y en ocasiones Python', 'context': ['Funciones', 'Contrato'], 'synonyms': ['Funcionalidades', 'Web'], 'related_question': ['¿Cuáles son sus áreas de conocimiento?']}, {'question': '¿Cuánto tiempo tomaría hacer mi página web?', 'answer': 'La creación de tu página web varía segun las funcionalidades que deseas incorporar. Una página que solo muestra información como blogs y fotografias puede tomar un mes y medio. En cambio, las webs que realizan reservas o que deben tener una interacción cliente - web puede tomar entre 2 a 3 meses', 'context': ['Duracion', 'Informacion'], 'synonyms': ['demora', 'duracion'], 'related_question': ['¿Por qué debería contratar sus servicios?', '¿Qué les hace diferente a los demás?', '¿Cuánto tiempo demoran haciendo mi página web después de haberles entregado toda mi info?']}, {'question': 'Si luego de tener mi página web ya creada, surge algún problema, ¿Podrían ayudarme con ello?', 'answer': 'Nuestras páginas webs estan diseñadas para ser autónomas y que a largo plazo puedan funcionar sin ningun problema. En caso de encontrar algún percanse o error, sin duda puedes contactarte con nosotros y lo trabajaremos', 'context': ['Problema', 'Contrato'], 'synonyms': ['mantenimiento', 'errores', 'bug']}, {'question': 'Quiero tener un dominio propio.', 'answer': 'Ofrecemos la posibilidad de que puedas alojar tu página web en un dominio .com o cual sea que sea tu necesidad. Tenemos los host más seguros y viables a largo plazo', 'context': ['dominio'], 'synonyms': ['web dominio', '.com', '.net'], 'related_question': ['¿Qué tecnologías manejan al momento de trabajar una página web?']}, {'question': '¿Cómo es el proceso de mi diseño web?', 'answer': 'Solicitaremos información de lo que deseas plasmar en tu página web según tu rubro. Podemos darte sugerencias, pero en caso de que ya tengas un diseño en específico, atenderemos a tus indicaciones', 'context': ['Informacion', 'Duracion'], 'synonyms': ['pasos', 'metodologia'], 'related_question': ['Necesito desarrollar un sitio web', '¿Cuánto tiempo demoran haciendo mi página web después de haberles entregado toda mi info?']}, {'question': '¿Tambien hacen logos para mi página web?', 'answer': 'No realizamos diseños de marca, nos enfocamos específicamente en el diseño de la página web. Logos, vectores y paletas de colores de la marca no estan incluidos en nuestros planes', 'synonyms': ['diseño']}, {'question': '¿Cuánto tiempo demoran haciendo mi página web después de haberles entregado toda mi info?', 'answer': 'Un tiempo aproximado de 2 a 3 meses promedio, segun tus funcionalidades a incluir', 'context': ['Duracion', 'Informacion'], 'synonyms': ['tardaria', 'demora'], 'related_question': ['¿Cuánto tiempo tomaría hacer mi página web?']}, {'question': '¿Mi página web puede tener un sistema de reservas?', 'answer': 'Claro, ofrecemos distintas funcionalidades para tu página web segun lo que desees incorporar. Desde reservas, formularios y ubicaciones.', 'context': ['Funciones', 'Informacion'], 'synonyms': ['reservaciones', 'sitio web'], 'related_question': ['¿Qué paquetes tienen para webs?', '¿Qué tecnologías manejan al momento de trabajar una página web?']}, {'question': '¿Qué funciones pueden agregarles a mi página web?', 'answer': 'Tu página web puede tener funcionalidades como: Reservas, exposicion de imágenes y videos, formularios, foro de opiniones, chats, pestañas de contenido, y muchas otras más', 'context': ['Funciones', 'Informacion'], 'synonyms': ['Herramientas', 'Sitio Web'], 'related_question': ['¿Tienen servicios de mercadeo por correo electrónico?', '¿Qué paquetes tienen para webs?']}, {'question': '¿Incluyen posicionamiento en google de mi página?', 'answer': 'Todos nuestros paquetes incluyen posicionamiento web. Sin embargo, entre mejor sea el paquete que eliges, más posibilidad tienes de posicionar tu página web hacia tus clientes potenciales', 'context': ['Funciones'], 'synonyms': ['Sitio web'], 'related_question': ['', '']}, {'question': '¿Qué paquetes tienen para webs?', 'answer': 'Tenemos tres paquetes creados: Basico, plus y pro. Puedes consultar en este chat detalles sobre cada uno. Si quieres un plan personalizado también podemos crearlo para tí', 'context': ['Paquetes', 'Informacion'], 'synonyms': ['Funcionalidades', 'Sitio web'], 'related_question': ['¿Tienen servicios de mercadeo por correo electrónico?', '¿Qué incluye el paquete básico?']}, {'question': '¿Qué incluye el paquete básico?', 'answer': 'El paquete básico incluye 6 secciones internas (home, quienes somos, servicios, etc). Optimización básica, imágenes basicas freepik y funcionalidades varias', 'context': ['Paquetes', 'Funciones', 'Informacion'], 'synonyms': ['Herramientas', 'normal'], 'related_question': ['¿Qué paquetes tienen para webs?', '¿Qué incluye el paquete plus?', '¿Qué incluye el paquete pro?']}, {'question': '¿Qué incluye el paquete plus?', 'answer': 'El paquete básico incluye 10 secciones internas (home, quienes somos, servicios, etc). Optimización media, imágenes basicas y premium freepik y funcionalidades varias', 'context': ['Paquetes', 'Funciones', 'Informacion'], 'synonyms': ['Herramientas', 'Medio'], 'related_question': ['¿Qué incluye el paquete básico?', '¿Qué paquetes tienen para webs?', '¿Qué incluye el paquete plus?']}, {'question': '¿Que incluye el paquete pro?', 'answer': 'El paquete básico incluye 15 secciones internas (home, quienes somos, servicios, etc). Optimización básica, imágenes basicas y premium freepik (incluimos tambien videos) y funcionalidades varias', 'context': ['Paquetes', 'Funciones', 'Informacion'], 'synonyms': ['Herramientas', 'Mejor'], 'related_question': ['¿Qué incluye el paquete básico?', '¿Qué paquetes tienen para webs?', '¿Qué incluye el paquete plus?']}, {'question': '¿Qué es HTML y para qué se utiliza?', 'answer': 'HTML, o lenguaje de marcas de hipertexto, es el lenguaje básico utilizado para crear páginas web. Es el lenguaje que estructura el contenido de una página web, como títulos, párrafos, imágenes y enlaces', 'related_question': [], 'context': [], 'synonyms': []}, {'question': '¿Qué es CSS y para qué se utiliza?', 'answer': 'CSS, o lenguaje de hojas de estilo en cascada, es el lenguaje utilizado para dar formato visual al contenido estructurado con HTML. Con CSS se pueden cambiar aspectos como el color, el tamaño y la posición de los elementos en una página web', 'related_question': [], 'context': [], 'synonyms': []}, {'question': '¿Qué es JavaScript y para qué se utiliza?', 'answer': 'JavaScript es un lenguaje de programación utilizado para agregar interactividad y dinamismo a las páginas web. Con JavaScript se pueden crear efectos visuales, validar formularios, crear mapas interactivos, etc', 'related_question': [], 'context': [], 'synonyms': []}, {'question': '¿Qué es un framework de JavaScript?', 'answer': 'Un framework de JavaScript es un conjunto de librerías y herramientas predefinidas que proporcionan una estructura para desarrollar aplicaciones y sitios web de manera más eficiente. Estos frameworks proporcionan una serie de funciones y componentes comunes que permiten al desarrollador escribir menos código y centrarse en la lógica de la aplicación en sí', 'related_question': [], 'context': [], 'synonyms': []}, {'question': '¿Cuáles son algunos de los frameworks de JavaScript más populares?', 'answer': 'React, Angular, Vue.js y Ember.js son algunos de los frameworks de JavaScript más populares. React es desarrollado y utilizado por Facebook, Angular es mantenido por Google, Vue.js es un framework de código abierto y Ember.js es popular en el desarrollo de aplicaciones empresariales', 'related_question': [], 'context': [], 'synonyms': []}, {'question': '¿Qué es una biblioteca de JavaScript?', 'answer': 'Una biblioteca de JavaScript es un conjunto de funciones y métodos predefinidos que se pueden utilizar para realizar tareas específicas en JavaScript. Las bibliotecas de JavaScript se utilizan para facilitar el desarrollo de aplicaciones web, proporcionando una serie de funciones y componentes comunes para reducir la cantidad de código escrito por el desarrollador', 'related_question': [], 'context': [], 'synonyms': []}, {'question': '¿Cuáles son algunas de las bibliotecas de JavaScript más populares?', 'answer': 'Algunas de las bibliotecas de JavaScript más populares son jQuery, Lodash, y Moment.js. jQuery es ampliamente utilizada para la manipulación del DOM, Lodash proporciona herramientas para trabajar con datos y Moment.js es utilizada para trabajar con fechas y horas', 'related_question': [], 'context': [], 'synonyms': []}, {'question': '¿Qué es una plataforma de desarrollo web?', 'answer': 'Una plataforma de desarrollo web es un conjunto de herramientas y servicios que se utilizan para desarrollar y desplegar aplicaciones web. Estas plataformas proporcionan una serie de funciones y componentes comunes, como soporte para bases de datos y gestión de usuarios, para facilitar el desarrollo de aplicaciones web', 'related_question': [], 'context': [], 'synonyms': []}, {'question': '¿Qué es una plataforma de desarrollo web?', 'answer': 'Una plataforma de desarrollo web es un conjunto de herramientas y servicios que se utilizan para desarrollar y desplegar aplicaciones web. Estas plataformas proporcionan una serie de funciones y componentes comunes, como soporte para bases de datos y gestión de usuarios, para facilitar el desarrollo de aplicaciones web', 'related_question': [], 'context': [], 'synonyms': []}, {'question': '¿Cuáles son algunas de las plataformas de desarrollo web más populares?', 'answer': 'Algunas de las plataformas de desarrollo web más populares son AWS(Amazon Web Services), Heroku, y Microsoft Azure. AWS es una plataforma de nube de Amazon, Heroku es una plataforma de desarrollo en la nube de Salesforce y Microsoft Azure es una plataforma de nube de Microsoft', 'related_question': [], 'context': [], 'synonyms': []}, {'question': '¿Qué es una plataforma de desarrollo de aplicaciones web?', 'answer': 'Una plataforma de desarrollo de aplicaciones web es un conjunto de herramientas y servicios que se utilizan para desarrollar, desplegar y administrar aplicaciones web. Estas plataformas proporcionan una serie de funciones y componentes comunes para facilitar el desarrollo y el mantenimiento de aplicaciones web. Un ejemplo de estas plataformas es Firebase de Google, que proporciona servicios de autenticación, almacenamiento de datos, notificaciones push, entre otros servicios', 'related_question': [], 'context': [], 'synonyms': []}, {'question': '¿Cuáles son algunas de las plataformas de desarrollo de aplicaciones web más populares?', 'answer': 'Algunas de las plataformas de desarrollo de aplicaciones web más populares son Firebase, Meteor y Ruby on Rails. Firebase es una plataforma de Google que proporciona una serie de servicios para el desarrollo de aplicaciones web y móviles, Meteor es una plataforma full-stack para el desarrollo de aplicaciones web en tiempo real y Ruby on Rails es una plataforma de desarrollo web basada en el lenguaje de programación Ruby', 'related_question': [], 'context': [], 'synonyms': []}, {'question': '¿Qué es una plataforma de desarrollo de aplicaciones móviles web?', 'answer': 'Una plataforma de desarrollo de aplicaciones móviles web es un conjunto de herramientas y servicios que se utilizan para desarrollar aplicaciones móviles que se ejecutan en el navegador de un dispositivo móvil. Estas aplicaciones se desarrollan utilizando tecnologías web como HTML, CSS y JavaScript', 'related_question': [], 'context': [], 'synonyms': []}, {'question': '¿Cuáles son algunas de las plataformas de desarrollo de aplicaciones móviles web más populares?', 'answer': 'Algunas de las plataformas de desarrollo de aplicaciones móviles web más populares son React Native, Ionic y PhoneGap. React Native es una plataforma desarrollada por Facebook para el desarrollo de aplicaciones móviles nativas utilizando React, Ionic es una plataforma para el desarrollo de aplicaciones móviles híbridas y PhoneGap es una plataforma para el desarrollo de aplicaciones móviles híbridas desarrolladas por Adobe', 'related_question': [], 'context': [], 'synonyms': []}, {'question': '¿Qué es una plataforma de desarrollo de aplicaciones móviles híbrida?', 'answer': 'Algunas de las plataformas de desarrollo de aplicaciones móviles web más populares son React Native, Ionic y PhoneGap. React Native es una plataforma desarrollada por Facebook para el desarrollo de aplicaciones móviles nativas utilizando React, Ionic es una plataforma para el desarrollo de aplicaciones móviles híbridas y PhoneGap es una plataforma para el desarrollo de aplicaciones móviles híbridas desarrolladas por Adobe', 'related_question': [], 'context': [], 'synonyms': []}]}\n"
          ]
        }
      ]
    },
    {
      "cell_type": "markdown",
      "source": [
        "Indivualmente, guardamos preguntas y respuestas en listas separadas para el preprocesamiento"
      ],
      "metadata": {
        "id": "zVJ-m1F5ID8X"
      }
    },
    {
      "cell_type": "code",
      "source": [
        "questions = []\n",
        "for obj in data['data']:\n",
        "    question = obj['question']\n",
        "    questions.append(question)\n",
        "\n",
        "answers = []\n",
        "for obj in data['data']:\n",
        "    answer = obj['answer']\n",
        "    answers.append(answer)\n",
        "\n",
        "synonyms= []\n",
        "for obj in data['data']:\n",
        "    for synonym in obj['synonyms']:\n",
        "        synonyms.append(synonym)\n",
        "\n",
        "\n",
        "contexts = []\n",
        "for obj in data['data']:\n",
        "  for context in obj['context']:\n",
        "    contexts.append(context)\n",
        "\n",
        "\n",
        "related_questions = []\n",
        "for obj in data['data']:\n",
        "  for related_question in obj['related_question']:\n",
        "    related_questions.append(related_question)\n",
        "    \n",
        "print(questions)\n",
        "print(answers)\n",
        "print(synonyms)\n",
        "print(contexts)\n",
        "print(related_questions)\n"
      ],
      "metadata": {
        "colab": {
          "base_uri": "https://localhost:8080/"
        },
        "id": "pv9DALD4E22V",
        "outputId": "ff3c6f4e-fc06-43e8-fcce-6a9513e082cd"
      },
      "execution_count": null,
      "outputs": [
        {
          "output_type": "stream",
          "name": "stdout",
          "text": [
            "['¿Por qué debería contratar sus servicios?', '¿Cuáles son sus áreas de conocimiento?', '¿Existen algunas empresas que han contado con sus servicios?', '¿Trabajan para un tipo de industria en específico?', '¿Qué les hace diferente a los demás?', '¿Dónde están ubicados?', '¿Ofrecen servicios de alojamiento web?', 'Necesito desarrollar un sitio web', 'Busco un software que ayude a mi empresa a realizar una tarea en específico.', '¿Tienen servicios de mercadeo por correo electrónico?', '¿Qué tecnologías manejan al momento de trabajar una página web?', '¿Cuánto tiempo tomaría hacer mi página web?', 'Si luego de tener mi página web ya creada, surge algún problema, ¿Podrían ayudarme con ello?', 'Quiero tener un dominio propio.', '¿Cómo es el proceso de mi diseño web?', '¿Tambien hacen logos para mi página web?', '¿Cuánto tiempo demoran haciendo mi página web después de haberles entregado toda mi info?', '¿Mi página web puede tener un sistema de reservas?', '¿Qué funciones pueden agregarles a mi página web?', '¿Incluyen posicionamiento en google de mi página?', '¿Qué paquetes tienen para webs?', '¿Qué incluye el paquete básico?', '¿Qué incluye el paquete plus?', '¿Que incluye el paquete pro?', '¿Qué es HTML y para qué se utiliza?', '¿Qué es CSS y para qué se utiliza?', '¿Qué es JavaScript y para qué se utiliza?', '¿Qué es un framework de JavaScript?', '¿Cuáles son algunos de los frameworks de JavaScript más populares?', '¿Qué es una biblioteca de JavaScript?', '¿Cuáles son algunas de las bibliotecas de JavaScript más populares?', '¿Qué es una plataforma de desarrollo web?', '¿Qué es una plataforma de desarrollo web?', '¿Cuáles son algunas de las plataformas de desarrollo web más populares?', '¿Qué es una plataforma de desarrollo de aplicaciones web?', '¿Cuáles son algunas de las plataformas de desarrollo de aplicaciones web más populares?', '¿Qué es una plataforma de desarrollo de aplicaciones móviles web?', '¿Cuáles son algunas de las plataformas de desarrollo de aplicaciones móviles web más populares?', '¿Qué es una plataforma de desarrollo de aplicaciones móviles híbrida?']\n",
            "['Contamos con más de 10 años de experiencia entregando soluciones tecnológicas únicas en todas las industrias y áreas de desarrollo. Nos enfocamos especialmente en generar resultados asombrosos en 10 áreas principales de desarrollo pero podemos brindar experiencias personalizadas  sin importar sus requisitos tecnológicos.', 'Entre las áreas tecnológicas que podemos trabajar, podemos enumerar: Data Science y aprendizaje automático, pruebas unitarias, desarrollo de plataformas, microservicios, diseño de producto, desarrollo frontend, estrategia de producto e internet de las cosas. ', 'Si, tenemos experiencia en distintos sistemas para empresas reconocidas como Heineken, Implosa, DuraQuant, entre otras. En nuestra página web puede encontrar mayores detalles sobre los sistemas implementados en esos casos de éxitos.', 'No necesariamente. Tenemos distintas industrias con diferentes mercados, entre las cuales podemos mencionar las industrias de salud, automotriz, banca y finanzas, inmobiliaria, telecomunicaciones y otros.', 'Siempre entregamos resultados de alta calidad alineados con los estándares más altos de la industria, además, tenemos una gestión de proyectos basada en metodologías ágiles gracias a un equipo de desarrolladores y diseñadores experimentados en las distintas áreas de trabajo.', 'Tenemos oficinas en tres países, en Panamá, Colombia y USA. Nuestro número telefónico es + 507 2099002 para Panamá. ', 'Si, tenemos años de experiencia en el mercado, ofreciendo servicios de web hosting de alta calidad a nuestros clientes alrededor del mundo.', 'Nosotros podemos ayudarte con el desarrollo de un sitio web acorde a tus necesidades empresariales o personales. Esto lo realizamos mediante el estudio de cada caso y sus necesidades y posibles opciones.', 'Actualmente existen softwares de distintas tipologías, estamos preparados para brindarte aquel tipo de software que más se adapte a tu empresa. Podemos diseñar una solución de software para sus sistemas y clientes. Nuestro equipo diseña, desarrolla e implementa software personalizado y plug-ins, que ayudan a nuestros clientes a lanzar nuevos emprendimientos en línea.', 'Te brindamos rapidez y entrega a un precio accesible. Lograrás alcanzar tus objetivos de marketing con una automatización de correo electrónico escalable y personalizada.', 'Manejamos tecnologías que vayan acorde a las necesidades de nuestro cliente. Comunmente trabajamos con javascript, css y html. Para la comunicación con el sitio webs y los datos utilizamos PHP y en ocasiones Python', 'La creación de tu página web varía segun las funcionalidades que deseas incorporar. Una página que solo muestra información como blogs y fotografias puede tomar un mes y medio. En cambio, las webs que realizan reservas o que deben tener una interacción cliente - web puede tomar entre 2 a 3 meses', 'Nuestras páginas webs estan diseñadas para ser autónomas y que a largo plazo puedan funcionar sin ningun problema. En caso de encontrar algún percanse o error, sin duda puedes contactarte con nosotros y lo trabajaremos', 'Ofrecemos la posibilidad de que puedas alojar tu página web en un dominio .com o cual sea que sea tu necesidad. Tenemos los host más seguros y viables a largo plazo', 'Solicitaremos información de lo que deseas plasmar en tu página web según tu rubro. Podemos darte sugerencias, pero en caso de que ya tengas un diseño en específico, atenderemos a tus indicaciones', 'No realizamos diseños de marca, nos enfocamos específicamente en el diseño de la página web. Logos, vectores y paletas de colores de la marca no estan incluidos en nuestros planes', 'Un tiempo aproximado de 2 a 3 meses promedio, segun tus funcionalidades a incluir', 'Claro, ofrecemos distintas funcionalidades para tu página web segun lo que desees incorporar. Desde reservas, formularios y ubicaciones.', 'Tu página web puede tener funcionalidades como: Reservas, exposicion de imágenes y videos, formularios, foro de opiniones, chats, pestañas de contenido, y muchas otras más', 'Todos nuestros paquetes incluyen posicionamiento web. Sin embargo, entre mejor sea el paquete que eliges, más posibilidad tienes de posicionar tu página web hacia tus clientes potenciales', 'Tenemos tres paquetes creados: Basico, plus y pro. Puedes consultar en este chat detalles sobre cada uno. Si quieres un plan personalizado también podemos crearlo para tí', 'El paquete básico incluye 6 secciones internas (home, quienes somos, servicios, etc). Optimización básica, imágenes basicas freepik y funcionalidades varias', 'El paquete básico incluye 10 secciones internas (home, quienes somos, servicios, etc). Optimización media, imágenes basicas y premium freepik y funcionalidades varias', 'El paquete básico incluye 15 secciones internas (home, quienes somos, servicios, etc). Optimización básica, imágenes basicas y premium freepik (incluimos tambien videos) y funcionalidades varias', 'HTML, o lenguaje de marcas de hipertexto, es el lenguaje básico utilizado para crear páginas web. Es el lenguaje que estructura el contenido de una página web, como títulos, párrafos, imágenes y enlaces', 'CSS, o lenguaje de hojas de estilo en cascada, es el lenguaje utilizado para dar formato visual al contenido estructurado con HTML. Con CSS se pueden cambiar aspectos como el color, el tamaño y la posición de los elementos en una página web', 'JavaScript es un lenguaje de programación utilizado para agregar interactividad y dinamismo a las páginas web. Con JavaScript se pueden crear efectos visuales, validar formularios, crear mapas interactivos, etc', 'Un framework de JavaScript es un conjunto de librerías y herramientas predefinidas que proporcionan una estructura para desarrollar aplicaciones y sitios web de manera más eficiente. Estos frameworks proporcionan una serie de funciones y componentes comunes que permiten al desarrollador escribir menos código y centrarse en la lógica de la aplicación en sí', 'React, Angular, Vue.js y Ember.js son algunos de los frameworks de JavaScript más populares. React es desarrollado y utilizado por Facebook, Angular es mantenido por Google, Vue.js es un framework de código abierto y Ember.js es popular en el desarrollo de aplicaciones empresariales', 'Una biblioteca de JavaScript es un conjunto de funciones y métodos predefinidos que se pueden utilizar para realizar tareas específicas en JavaScript. Las bibliotecas de JavaScript se utilizan para facilitar el desarrollo de aplicaciones web, proporcionando una serie de funciones y componentes comunes para reducir la cantidad de código escrito por el desarrollador', 'Algunas de las bibliotecas de JavaScript más populares son jQuery, Lodash, y Moment.js. jQuery es ampliamente utilizada para la manipulación del DOM, Lodash proporciona herramientas para trabajar con datos y Moment.js es utilizada para trabajar con fechas y horas', 'Una plataforma de desarrollo web es un conjunto de herramientas y servicios que se utilizan para desarrollar y desplegar aplicaciones web. Estas plataformas proporcionan una serie de funciones y componentes comunes, como soporte para bases de datos y gestión de usuarios, para facilitar el desarrollo de aplicaciones web', 'Una plataforma de desarrollo web es un conjunto de herramientas y servicios que se utilizan para desarrollar y desplegar aplicaciones web. Estas plataformas proporcionan una serie de funciones y componentes comunes, como soporte para bases de datos y gestión de usuarios, para facilitar el desarrollo de aplicaciones web', 'Algunas de las plataformas de desarrollo web más populares son AWS(Amazon Web Services), Heroku, y Microsoft Azure. AWS es una plataforma de nube de Amazon, Heroku es una plataforma de desarrollo en la nube de Salesforce y Microsoft Azure es una plataforma de nube de Microsoft', 'Una plataforma de desarrollo de aplicaciones web es un conjunto de herramientas y servicios que se utilizan para desarrollar, desplegar y administrar aplicaciones web. Estas plataformas proporcionan una serie de funciones y componentes comunes para facilitar el desarrollo y el mantenimiento de aplicaciones web. Un ejemplo de estas plataformas es Firebase de Google, que proporciona servicios de autenticación, almacenamiento de datos, notificaciones push, entre otros servicios', 'Algunas de las plataformas de desarrollo de aplicaciones web más populares son Firebase, Meteor y Ruby on Rails. Firebase es una plataforma de Google que proporciona una serie de servicios para el desarrollo de aplicaciones web y móviles, Meteor es una plataforma full-stack para el desarrollo de aplicaciones web en tiempo real y Ruby on Rails es una plataforma de desarrollo web basada en el lenguaje de programación Ruby', 'Una plataforma de desarrollo de aplicaciones móviles web es un conjunto de herramientas y servicios que se utilizan para desarrollar aplicaciones móviles que se ejecutan en el navegador de un dispositivo móvil. Estas aplicaciones se desarrollan utilizando tecnologías web como HTML, CSS y JavaScript', 'Algunas de las plataformas de desarrollo de aplicaciones móviles web más populares son React Native, Ionic y PhoneGap. React Native es una plataforma desarrollada por Facebook para el desarrollo de aplicaciones móviles nativas utilizando React, Ionic es una plataforma para el desarrollo de aplicaciones móviles híbridas y PhoneGap es una plataforma para el desarrollo de aplicaciones móviles híbridas desarrolladas por Adobe', 'Algunas de las plataformas de desarrollo de aplicaciones móviles web más populares son React Native, Ionic y PhoneGap. React Native es una plataforma desarrollada por Facebook para el desarrollo de aplicaciones móviles nativas utilizando React, Ionic es una plataforma para el desarrollo de aplicaciones móviles híbridas y PhoneGap es una plataforma para el desarrollo de aplicaciones móviles híbridas desarrolladas por Adobe']\n",
            "['Contar', 'Paquetes', 'Enfoque', 'Rubro', 'Mercado', 'Productos', 'Paquetes', 'Contratado', 'Empresa', 'Diseñado', 'mejor', 'competencia', 'Localizados', 'Encuentran', 'sitio web', 'facilidades', 'hacer', 'solicito', 'quiero', 'Negocio', 'Funcion', 'Funciones', 'email', 'contacto', 'Funcionalidades', 'Web', 'demora', 'duracion', 'mantenimiento', 'errores', 'bug', 'web dominio', '.com', '.net', 'pasos', 'metodologia', 'diseño', 'tardaria', 'demora', 'reservaciones', 'sitio web', 'Herramientas', 'Sitio Web', 'Sitio web', 'Funcionalidades', 'Sitio web', 'Herramientas', 'normal', 'Herramientas', 'Medio', 'Herramientas', 'Mejor']\n",
            "['Info de Paquetes', 'Experiencia', 'Contrato', 'Contrato', 'Experiencia', 'Contrato', 'Experiencia', 'Contrato', 'Empresas', 'Productos', 'Competencia', 'Informacion', 'Contrato', 'Informacion', 'Paquetes', 'Paquetes', 'Informacion', 'Informacion', 'Paquetes', 'Funciones', 'Informacion', 'Funciones', 'Funciones', 'Contrato', 'Duracion', 'Informacion', 'Problema', 'Contrato', 'dominio', 'Informacion', 'Duracion']\n",
            "['¿Cuáles son sus áreas de conocimiento?', '¿Qué les hace diferente a los demás?', '¿Qué tecnologías manejan al momento de trabajar una página web?', '¿Mi página web puede tener un sistema de reservas?', '¿Trabajan para un tipo de industria en específico?', '¿Existen algunas empresas que han contado con sus servicios?', '¿Cuáles son sus áreas de conocimiento?', '¿Cuáles son sus áreas de conocimiento?', '¿Por qué debería contratar sus servicios?']\n"
          ]
        }
      ]
    },
    {
      "cell_type": "markdown",
      "source": [
        "COMIENZA EL PREPROCESAMIENTO DE LOS DATOS"
      ],
      "metadata": {
        "id": "lwvC8nJaLZu8"
      }
    },
    {
      "cell_type": "code",
      "source": [
        "from nltk.corpus import stopwords\n",
        "\n",
        "nltk.download('stopwords')\n",
        "stopwords_list = set(stopwords.words('spanish'))\n"
      ],
      "metadata": {
        "colab": {
          "base_uri": "https://localhost:8080/"
        },
        "id": "i_dWGLuIYviW",
        "outputId": "1372db3f-c128-42e9-d8ee-47b4f169c62c"
      },
      "execution_count": null,
      "outputs": [
        {
          "output_type": "stream",
          "name": "stderr",
          "text": [
            "[nltk_data] Downloading package stopwords to /root/nltk_data...\n",
            "[nltk_data]   Package stopwords is already up-to-date!\n"
          ]
        }
      ]
    },
    {
      "cell_type": "markdown",
      "source": [
        "**ELIMINACIÓN DE STOPWORDS**"
      ],
      "metadata": {
        "id": "iEcvzlzvkqIQ"
      }
    },
    {
      "cell_type": "code",
      "source": [
        "#Aqui pasamos las listas por una funcion que elimina stopwords(palabras que no otorgan sentido a la pregunta o respuesta)\n",
        "def eliminar_stopwords(cadenas):\n",
        "    cadenas_sin_stopwords = []\n",
        "    for cadena in cadenas:\n",
        "        palabras = cadena.split()\n",
        "        palabras_filtradas = [palabra for palabra in palabras if palabra.lower() not in stopwords_list]\n",
        "        cadena_sin_stopwords = \" \".join(palabras_filtradas)\n",
        "        cadenas_sin_stopwords.append(cadena_sin_stopwords)\n",
        "    return cadenas_sin_stopwords\n",
        "\n",
        "#lo aplicamos a las listas necesarias, context y sinonimos quedan fuera porque son palabras\n",
        "questions_sin_stopwords = eliminar_stopwords(questions)\n",
        "answer_sin_stopwords = eliminar_stopwords(answers)\n",
        "related_questions_sin_stopwords = eliminar_stopwords(related_questions)\n"
      ],
      "metadata": {
        "id": "t_NAEY3spVM7"
      },
      "execution_count": null,
      "outputs": []
    },
    {
      "cell_type": "code",
      "source": [
        "nltk.download('stopwords')\n",
        "nltk.download('punkt')\n",
        "nltk.download('averaged_perceptron_tagger')\n",
        "nltk.download('wordnet')\n",
        "nltk.download('omw-1.4')"
      ],
      "metadata": {
        "colab": {
          "base_uri": "https://localhost:8080/"
        },
        "id": "UIWtokKlfjhw",
        "outputId": "37720ebb-9149-41f9-ca2d-b81e05955df1"
      },
      "execution_count": null,
      "outputs": [
        {
          "output_type": "stream",
          "name": "stderr",
          "text": [
            "[nltk_data] Downloading package stopwords to /root/nltk_data...\n",
            "[nltk_data]   Package stopwords is already up-to-date!\n",
            "[nltk_data] Downloading package punkt to /root/nltk_data...\n",
            "[nltk_data]   Package punkt is already up-to-date!\n",
            "[nltk_data] Downloading package averaged_perceptron_tagger to\n",
            "[nltk_data]     /root/nltk_data...\n",
            "[nltk_data]   Package averaged_perceptron_tagger is already up-to-\n",
            "[nltk_data]       date!\n",
            "[nltk_data] Downloading package wordnet to /root/nltk_data...\n",
            "[nltk_data]   Package wordnet is already up-to-date!\n",
            "[nltk_data] Downloading package omw-1.4 to /root/nltk_data...\n",
            "[nltk_data]   Package omw-1.4 is already up-to-date!\n"
          ]
        },
        {
          "output_type": "execute_result",
          "data": {
            "text/plain": [
              "True"
            ]
          },
          "metadata": {},
          "execution_count": 56
        }
      ]
    },
    {
      "cell_type": "markdown",
      "source": [
        "TOKENIZAMOS Y ELIMINAMOS SIGNOS DE PUNTUACION"
      ],
      "metadata": {
        "id": "CYJxf37gleWa"
      }
    },
    {
      "cell_type": "code",
      "source": [
        "def tokenizar(datos_de_conversacion):\n",
        "  listas_tokenizadas = []\n",
        "  for i in range(len(datos_de_conversacion)):\n",
        "    datos_de_conversacion[i] = re.sub(r'[^\\w\\s]','',datos_de_conversacion[i].lower())\n",
        "  \n",
        "  for token in datos_de_conversacion:\n",
        "    tokens = word_tokenize(token)\n",
        "    listas_tokenizadas.append(tokens)\n",
        "\n",
        "  return listas_tokenizadas"
      ],
      "metadata": {
        "id": "7oTQ7plylvXf"
      },
      "execution_count": null,
      "outputs": []
    },
    {
      "cell_type": "code",
      "source": [
        "questions_tokenizadas = tokenizar(questions_sin_stopwords)\n",
        "answer_tokenizadas = tokenizar(answer_sin_stopwords)\n",
        "related_questions_tokenizadas = tokenizar(related_questions_sin_stopwords)"
      ],
      "metadata": {
        "id": "8BdISsOHmVZb"
      },
      "execution_count": null,
      "outputs": []
    },
    {
      "cell_type": "code",
      "source": [],
      "metadata": {
        "id": "BS-wnU2MqKUj"
      },
      "execution_count": null,
      "outputs": []
    },
    {
      "cell_type": "code",
      "source": [],
      "metadata": {
        "id": "sk9T2WyUqKMd"
      },
      "execution_count": null,
      "outputs": []
    },
    {
      "cell_type": "code",
      "source": [],
      "metadata": {
        "id": "_WP_pbvCqJ4n"
      },
      "execution_count": null,
      "outputs": []
    },
    {
      "cell_type": "code",
      "source": [
        "!python -m spacy download es_core_news_sm"
      ],
      "metadata": {
        "colab": {
          "base_uri": "https://localhost:8080/"
        },
        "id": "MP-Zl0WpqHD-",
        "outputId": "7bedf178-c351-49d8-b1c6-5b260e1bbf60"
      },
      "execution_count": null,
      "outputs": [
        {
          "output_type": "stream",
          "name": "stdout",
          "text": [
            "/usr/local/lib/python3.8/dist-packages/torch/cuda/__init__.py:497: UserWarning: Can't initialize NVML\n",
            "  warnings.warn(\"Can't initialize NVML\")\n",
            "2023-01-18 16:14:02.440147: E tensorflow/stream_executor/cuda/cuda_driver.cc:271] failed call to cuInit: CUDA_ERROR_NO_DEVICE: no CUDA-capable device is detected\n",
            "Looking in indexes: https://pypi.org/simple, https://us-python.pkg.dev/colab-wheels/public/simple/\n",
            "Collecting es-core-news-sm==3.4.0\n",
            "  Downloading https://github.com/explosion/spacy-models/releases/download/es_core_news_sm-3.4.0/es_core_news_sm-3.4.0-py3-none-any.whl (12.9 MB)\n",
            "\u001b[2K     \u001b[90m━━━━━━━━━━━━━━━━━━━━━━━━━━━━━━━━━━━━━━━━\u001b[0m \u001b[32m12.9/12.9 MB\u001b[0m \u001b[31m12.1 MB/s\u001b[0m eta \u001b[36m0:00:00\u001b[0m\n",
            "\u001b[?25hRequirement already satisfied: spacy<3.5.0,>=3.4.0 in /usr/local/lib/python3.8/dist-packages (from es-core-news-sm==3.4.0) (3.4.4)\n",
            "Requirement already satisfied: preshed<3.1.0,>=3.0.2 in /usr/local/lib/python3.8/dist-packages (from spacy<3.5.0,>=3.4.0->es-core-news-sm==3.4.0) (3.0.8)\n",
            "Requirement already satisfied: spacy-loggers<2.0.0,>=1.0.0 in /usr/local/lib/python3.8/dist-packages (from spacy<3.5.0,>=3.4.0->es-core-news-sm==3.4.0) (1.0.4)\n",
            "Requirement already satisfied: jinja2 in /usr/local/lib/python3.8/dist-packages (from spacy<3.5.0,>=3.4.0->es-core-news-sm==3.4.0) (2.11.3)\n",
            "Requirement already satisfied: setuptools in /usr/local/lib/python3.8/dist-packages (from spacy<3.5.0,>=3.4.0->es-core-news-sm==3.4.0) (57.4.0)\n",
            "Requirement already satisfied: typer<0.8.0,>=0.3.0 in /usr/local/lib/python3.8/dist-packages (from spacy<3.5.0,>=3.4.0->es-core-news-sm==3.4.0) (0.7.0)\n",
            "Requirement already satisfied: srsly<3.0.0,>=2.4.3 in /usr/local/lib/python3.8/dist-packages (from spacy<3.5.0,>=3.4.0->es-core-news-sm==3.4.0) (2.4.5)\n",
            "Requirement already satisfied: numpy>=1.15.0 in /usr/local/lib/python3.8/dist-packages (from spacy<3.5.0,>=3.4.0->es-core-news-sm==3.4.0) (1.21.6)\n",
            "Requirement already satisfied: packaging>=20.0 in /usr/local/lib/python3.8/dist-packages (from spacy<3.5.0,>=3.4.0->es-core-news-sm==3.4.0) (21.3)\n",
            "Requirement already satisfied: catalogue<2.1.0,>=2.0.6 in /usr/local/lib/python3.8/dist-packages (from spacy<3.5.0,>=3.4.0->es-core-news-sm==3.4.0) (2.0.8)\n",
            "Requirement already satisfied: langcodes<4.0.0,>=3.2.0 in /usr/local/lib/python3.8/dist-packages (from spacy<3.5.0,>=3.4.0->es-core-news-sm==3.4.0) (3.3.0)\n",
            "Requirement already satisfied: pydantic!=1.8,!=1.8.1,<1.11.0,>=1.7.4 in /usr/local/lib/python3.8/dist-packages (from spacy<3.5.0,>=3.4.0->es-core-news-sm==3.4.0) (1.10.4)\n",
            "Requirement already satisfied: thinc<8.2.0,>=8.1.0 in /usr/local/lib/python3.8/dist-packages (from spacy<3.5.0,>=3.4.0->es-core-news-sm==3.4.0) (8.1.6)\n",
            "Requirement already satisfied: pathy>=0.3.5 in /usr/local/lib/python3.8/dist-packages (from spacy<3.5.0,>=3.4.0->es-core-news-sm==3.4.0) (0.10.1)\n",
            "Requirement already satisfied: requests<3.0.0,>=2.13.0 in /usr/local/lib/python3.8/dist-packages (from spacy<3.5.0,>=3.4.0->es-core-news-sm==3.4.0) (2.25.1)\n",
            "Requirement already satisfied: wasabi<1.1.0,>=0.9.1 in /usr/local/lib/python3.8/dist-packages (from spacy<3.5.0,>=3.4.0->es-core-news-sm==3.4.0) (0.10.1)\n",
            "Requirement already satisfied: cymem<2.1.0,>=2.0.2 in /usr/local/lib/python3.8/dist-packages (from spacy<3.5.0,>=3.4.0->es-core-news-sm==3.4.0) (2.0.7)\n",
            "Requirement already satisfied: spacy-legacy<3.1.0,>=3.0.10 in /usr/local/lib/python3.8/dist-packages (from spacy<3.5.0,>=3.4.0->es-core-news-sm==3.4.0) (3.0.11)\n",
            "Requirement already satisfied: smart-open<7.0.0,>=5.2.1 in /usr/local/lib/python3.8/dist-packages (from spacy<3.5.0,>=3.4.0->es-core-news-sm==3.4.0) (6.3.0)\n",
            "Requirement already satisfied: murmurhash<1.1.0,>=0.28.0 in /usr/local/lib/python3.8/dist-packages (from spacy<3.5.0,>=3.4.0->es-core-news-sm==3.4.0) (1.0.9)\n",
            "Requirement already satisfied: tqdm<5.0.0,>=4.38.0 in /usr/local/lib/python3.8/dist-packages (from spacy<3.5.0,>=3.4.0->es-core-news-sm==3.4.0) (4.64.1)\n",
            "Requirement already satisfied: pyparsing!=3.0.5,>=2.0.2 in /usr/local/lib/python3.8/dist-packages (from packaging>=20.0->spacy<3.5.0,>=3.4.0->es-core-news-sm==3.4.0) (3.0.9)\n",
            "Requirement already satisfied: typing-extensions>=4.2.0 in /usr/local/lib/python3.8/dist-packages (from pydantic!=1.8,!=1.8.1,<1.11.0,>=1.7.4->spacy<3.5.0,>=3.4.0->es-core-news-sm==3.4.0) (4.4.0)\n",
            "Requirement already satisfied: idna<3,>=2.5 in /usr/local/lib/python3.8/dist-packages (from requests<3.0.0,>=2.13.0->spacy<3.5.0,>=3.4.0->es-core-news-sm==3.4.0) (2.10)\n",
            "Requirement already satisfied: urllib3<1.27,>=1.21.1 in /usr/local/lib/python3.8/dist-packages (from requests<3.0.0,>=2.13.0->spacy<3.5.0,>=3.4.0->es-core-news-sm==3.4.0) (1.24.3)\n",
            "Requirement already satisfied: chardet<5,>=3.0.2 in /usr/local/lib/python3.8/dist-packages (from requests<3.0.0,>=2.13.0->spacy<3.5.0,>=3.4.0->es-core-news-sm==3.4.0) (4.0.0)\n",
            "Requirement already satisfied: certifi>=2017.4.17 in /usr/local/lib/python3.8/dist-packages (from requests<3.0.0,>=2.13.0->spacy<3.5.0,>=3.4.0->es-core-news-sm==3.4.0) (2022.12.7)\n",
            "Requirement already satisfied: blis<0.8.0,>=0.7.8 in /usr/local/lib/python3.8/dist-packages (from thinc<8.2.0,>=8.1.0->spacy<3.5.0,>=3.4.0->es-core-news-sm==3.4.0) (0.7.9)\n",
            "Requirement already satisfied: confection<1.0.0,>=0.0.1 in /usr/local/lib/python3.8/dist-packages (from thinc<8.2.0,>=8.1.0->spacy<3.5.0,>=3.4.0->es-core-news-sm==3.4.0) (0.0.3)\n",
            "Requirement already satisfied: click<9.0.0,>=7.1.1 in /usr/local/lib/python3.8/dist-packages (from typer<0.8.0,>=0.3.0->spacy<3.5.0,>=3.4.0->es-core-news-sm==3.4.0) (7.1.2)\n",
            "Requirement already satisfied: MarkupSafe>=0.23 in /usr/local/lib/python3.8/dist-packages (from jinja2->spacy<3.5.0,>=3.4.0->es-core-news-sm==3.4.0) (2.0.1)\n",
            "Installing collected packages: es-core-news-sm\n",
            "Successfully installed es-core-news-sm-3.4.0\n",
            "\u001b[38;5;2m✔ Download and installation successful\u001b[0m\n",
            "You can now load the package via spacy.load('es_core_news_sm')\n"
          ]
        }
      ]
    },
    {
      "cell_type": "code",
      "source": [
        "import spacy\n",
        "\n",
        "nlp = spacy.load(\"es_core_news_sm\")\n",
        "\n",
        "def lemmatize_list(words_list):\n",
        "    lemmatized_words = []\n",
        "    for words in words_list:\n",
        "        lemmatized_words.append([token.lemma_ for token in nlp(\" \".join(words))])\n",
        "    return lemmatized_words\n"
      ],
      "metadata": {
        "id": "SJlR3PgXnV1n"
      },
      "execution_count": null,
      "outputs": []
    },
    {
      "cell_type": "code",
      "source": [
        "questions_lematizadas = lemmatize_list(questions_tokenizadas )"
      ],
      "metadata": {
        "id": "-rLOjfSnqQxG"
      },
      "execution_count": null,
      "outputs": []
    },
    {
      "cell_type": "code",
      "source": [
        "print(questions_lematizadas)"
      ],
      "metadata": {
        "colab": {
          "base_uri": "https://localhost:8080/"
        },
        "id": "2NHLVbZbrYvF",
        "outputId": "c3411682-ece9-4d4a-b687-0d48d70acdfe"
      },
      "execution_count": null,
      "outputs": [
        {
          "output_type": "stream",
          "name": "stdout",
          "text": [
            "[['por', 'deber', 'contratar', 'servicio'], ['cua él', 'área', 'conocimiento'], ['existir', 'empresa', 'contado', 'servicio'], ['trabajar', 'tipo', 'industria', 'específico'], ['qué', 'hacer', 'diferente', 'demá'], ['dónde', 'ubicado'], ['ofrecer', 'servicio', 'alojamiento', 'web'], ['necesitar', 'desarrollar', 'sitio', 'web'], ['buscar', 'software', 'ayudar', 'empresa', 'realizar', 'tarea', 'específico'], ['tener', 'servicio', 'mercadeo', 'correo', 'electrónico'], ['qué', 'tecnología', 'manejar', 'momento', 'trabajar', 'página', 'web'], ['cuánto', 'tiempo', 'tomar', 'hacer', 'página', 'web'], ['si', 'luego', 'tener', 'página', 'web', 'creado', 'surgir', 'alguno', 'problema', 'poder', 'ayudar yo', 'él'], ['querer', 'tener', 'dominio', 'propio'], ['cómo', 'proceso', 'diseño', 'web'], ['tambien', 'hacer', 'logo', 'página', 'web'], ['cuánto', 'tiempo', 'demorar', 'hacer', 'página', 'web', 'después', 'haberl', 'entregar', 'todo', 'info'], ['mi', 'página', 'web', 'poder', 'tener', 'sistema', 'reserva'], ['qué', 'función', 'poder', 'agregarl', 'página', 'web'], ['incluir', 'posicionamiento', 'google', 'página'], ['qué', 'paquete', 'webs'], ['qué', 'incluir', 'paquete', 'básico'], ['qué', 'incluir', 'paquete', 'plus'], ['que', 'incluir', 'paquete', 'pro'], ['qué', 'html', 'utilizar'], ['qué', 'css', 'utilizar'], ['qué', 'javascript', 'utiliza'], ['qué', 'framework', 'javascript'], ['cuál', 'frameworks', 'javascript', 'popular'], ['qué', 'biblioteca', 'javascript'], ['cuál', 'biblioteca', 'javascript', 'popular'], ['qué', 'plataformar', 'desarrollo', 'web'], ['qué', 'plataformar', 'desarrollo', 'web'], ['cua él', 'plataforma', 'desarrollo', 'web', 'popular'], ['qué', 'plataformar', 'desarrollo', 'aplicación', 'web'], ['cua él', 'plataformar', 'desarrollo', 'aplicación', 'web', 'popular'], ['qué', 'plataformar', 'desarrollo', 'aplicación', 'móvil', 'web'], ['cua él', 'plataforma', 'desarrollo', 'aplicación', 'móvil', 'web', 'popular'], ['qué', 'plataformar', 'desarrollo', 'aplicación', 'móvil', 'híbrido']]\n"
          ]
        }
      ]
    },
    {
      "cell_type": "code",
      "source": [],
      "metadata": {
        "id": "48X_03J2rict"
      },
      "execution_count": null,
      "outputs": []
    }
  ]
}